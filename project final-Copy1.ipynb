{
 "cells": [
  {
   "cell_type": "code",
   "execution_count": 2,
   "id": "0a73ba26",
   "metadata": {},
   "outputs": [],
   "source": [
    "import warnings\n",
    "warnings.filterwarnings('ignore')"
   ]
  },
  {
   "cell_type": "code",
   "execution_count": 3,
   "id": "04a11ba8",
   "metadata": {},
   "outputs": [],
   "source": [
    "import pandas as pd\n",
    "import matplotlib.pyplot as plt\n",
    "import seaborn as sns\n"
   ]
  },
  {
   "cell_type": "code",
   "execution_count": null,
   "id": "2fb40228",
   "metadata": {},
   "outputs": [],
   "source": []
  },
  {
   "cell_type": "code",
   "execution_count": 4,
   "id": "b47cdf7c",
   "metadata": {},
   "outputs": [
    {
     "data": {
      "text/html": [
       "<div>\n",
       "<style scoped>\n",
       "    .dataframe tbody tr th:only-of-type {\n",
       "        vertical-align: middle;\n",
       "    }\n",
       "\n",
       "    .dataframe tbody tr th {\n",
       "        vertical-align: top;\n",
       "    }\n",
       "\n",
       "    .dataframe thead th {\n",
       "        text-align: right;\n",
       "    }\n",
       "</style>\n",
       "<table border=\"1\" class=\"dataframe\">\n",
       "  <thead>\n",
       "    <tr style=\"text-align: right;\">\n",
       "      <th></th>\n",
       "      <th>Area_Name</th>\n",
       "      <th>Year</th>\n",
       "      <th>Group_Name</th>\n",
       "      <th>Sub_Group_Name</th>\n",
       "      <th>Cases_Property_Recovered</th>\n",
       "      <th>Cases_Property_Stolen</th>\n",
       "      <th>Value_of_Property_Recovered</th>\n",
       "      <th>Value_of_Property_Stolen</th>\n",
       "    </tr>\n",
       "  </thead>\n",
       "  <tbody>\n",
       "    <tr>\n",
       "      <th>0</th>\n",
       "      <td>Andaman &amp; Nicobar Islands</td>\n",
       "      <td>2001</td>\n",
       "      <td>Burglary - Property</td>\n",
       "      <td>3. Burglary</td>\n",
       "      <td>27</td>\n",
       "      <td>64</td>\n",
       "      <td>755858</td>\n",
       "      <td>1321961</td>\n",
       "    </tr>\n",
       "    <tr>\n",
       "      <th>1</th>\n",
       "      <td>Andhra Pradesh</td>\n",
       "      <td>2001</td>\n",
       "      <td>Burglary - Property</td>\n",
       "      <td>3. Burglary</td>\n",
       "      <td>3321</td>\n",
       "      <td>7134</td>\n",
       "      <td>51483437</td>\n",
       "      <td>147019348</td>\n",
       "    </tr>\n",
       "    <tr>\n",
       "      <th>2</th>\n",
       "      <td>Arunachal Pradesh</td>\n",
       "      <td>2001</td>\n",
       "      <td>Burglary - Property</td>\n",
       "      <td>3. Burglary</td>\n",
       "      <td>66</td>\n",
       "      <td>248</td>\n",
       "      <td>825115</td>\n",
       "      <td>4931904</td>\n",
       "    </tr>\n",
       "    <tr>\n",
       "      <th>3</th>\n",
       "      <td>Assam</td>\n",
       "      <td>2001</td>\n",
       "      <td>Burglary - Property</td>\n",
       "      <td>3. Burglary</td>\n",
       "      <td>539</td>\n",
       "      <td>2423</td>\n",
       "      <td>3722850</td>\n",
       "      <td>21466955</td>\n",
       "    </tr>\n",
       "    <tr>\n",
       "      <th>4</th>\n",
       "      <td>Bihar</td>\n",
       "      <td>2001</td>\n",
       "      <td>Burglary - Property</td>\n",
       "      <td>3. Burglary</td>\n",
       "      <td>367</td>\n",
       "      <td>3231</td>\n",
       "      <td>2327135</td>\n",
       "      <td>17023937</td>\n",
       "    </tr>\n",
       "    <tr>\n",
       "      <th>...</th>\n",
       "      <td>...</td>\n",
       "      <td>...</td>\n",
       "      <td>...</td>\n",
       "      <td>...</td>\n",
       "      <td>...</td>\n",
       "      <td>...</td>\n",
       "      <td>...</td>\n",
       "      <td>...</td>\n",
       "    </tr>\n",
       "    <tr>\n",
       "      <th>2444</th>\n",
       "      <td>Tamil Nadu</td>\n",
       "      <td>2010</td>\n",
       "      <td>Total Property</td>\n",
       "      <td>7. Total Property Stolen &amp; Recovered</td>\n",
       "      <td>16125</td>\n",
       "      <td>21509</td>\n",
       "      <td>660311804</td>\n",
       "      <td>1317919190</td>\n",
       "    </tr>\n",
       "    <tr>\n",
       "      <th>2445</th>\n",
       "      <td>Tripura</td>\n",
       "      <td>2010</td>\n",
       "      <td>Total Property</td>\n",
       "      <td>7. Total Property Stolen &amp; Recovered</td>\n",
       "      <td>192</td>\n",
       "      <td>879</td>\n",
       "      <td>5666102</td>\n",
       "      <td>33032746</td>\n",
       "    </tr>\n",
       "    <tr>\n",
       "      <th>2446</th>\n",
       "      <td>Uttar Pradesh</td>\n",
       "      <td>2010</td>\n",
       "      <td>Total Property</td>\n",
       "      <td>7. Total Property Stolen &amp; Recovered</td>\n",
       "      <td>9130</td>\n",
       "      <td>35068</td>\n",
       "      <td>577591772</td>\n",
       "      <td>1442670414</td>\n",
       "    </tr>\n",
       "    <tr>\n",
       "      <th>2447</th>\n",
       "      <td>Uttarakhand</td>\n",
       "      <td>2010</td>\n",
       "      <td>Total Property</td>\n",
       "      <td>7. Total Property Stolen &amp; Recovered</td>\n",
       "      <td>964</td>\n",
       "      <td>2234</td>\n",
       "      <td>47135685</td>\n",
       "      <td>123398840</td>\n",
       "    </tr>\n",
       "    <tr>\n",
       "      <th>2448</th>\n",
       "      <td>West Bengal</td>\n",
       "      <td>2010</td>\n",
       "      <td>Total Property</td>\n",
       "      <td>7. Total Property Stolen &amp; Recovered</td>\n",
       "      <td>4548</td>\n",
       "      <td>23759</td>\n",
       "      <td>1168242161</td>\n",
       "      <td>5015168687</td>\n",
       "    </tr>\n",
       "  </tbody>\n",
       "</table>\n",
       "<p>2449 rows × 8 columns</p>\n",
       "</div>"
      ],
      "text/plain": [
       "                      Area_Name  Year           Group_Name  \\\n",
       "0     Andaman & Nicobar Islands  2001  Burglary - Property   \n",
       "1                Andhra Pradesh  2001  Burglary - Property   \n",
       "2             Arunachal Pradesh  2001  Burglary - Property   \n",
       "3                         Assam  2001  Burglary - Property   \n",
       "4                         Bihar  2001  Burglary - Property   \n",
       "...                         ...   ...                  ...   \n",
       "2444                 Tamil Nadu  2010       Total Property   \n",
       "2445                    Tripura  2010       Total Property   \n",
       "2446              Uttar Pradesh  2010       Total Property   \n",
       "2447                Uttarakhand  2010       Total Property   \n",
       "2448                West Bengal  2010       Total Property   \n",
       "\n",
       "                            Sub_Group_Name  Cases_Property_Recovered  \\\n",
       "0                              3. Burglary                        27   \n",
       "1                              3. Burglary                      3321   \n",
       "2                              3. Burglary                        66   \n",
       "3                              3. Burglary                       539   \n",
       "4                              3. Burglary                       367   \n",
       "...                                    ...                       ...   \n",
       "2444  7. Total Property Stolen & Recovered                     16125   \n",
       "2445  7. Total Property Stolen & Recovered                       192   \n",
       "2446  7. Total Property Stolen & Recovered                      9130   \n",
       "2447  7. Total Property Stolen & Recovered                       964   \n",
       "2448  7. Total Property Stolen & Recovered                      4548   \n",
       "\n",
       "      Cases_Property_Stolen  Value_of_Property_Recovered  \\\n",
       "0                        64                       755858   \n",
       "1                      7134                     51483437   \n",
       "2                       248                       825115   \n",
       "3                      2423                      3722850   \n",
       "4                      3231                      2327135   \n",
       "...                     ...                          ...   \n",
       "2444                  21509                    660311804   \n",
       "2445                    879                      5666102   \n",
       "2446                  35068                    577591772   \n",
       "2447                   2234                     47135685   \n",
       "2448                  23759                   1168242161   \n",
       "\n",
       "      Value_of_Property_Stolen  \n",
       "0                      1321961  \n",
       "1                    147019348  \n",
       "2                      4931904  \n",
       "3                     21466955  \n",
       "4                     17023937  \n",
       "...                        ...  \n",
       "2444                1317919190  \n",
       "2445                  33032746  \n",
       "2446                1442670414  \n",
       "2447                 123398840  \n",
       "2448                5015168687  \n",
       "\n",
       "[2449 rows x 8 columns]"
      ]
     },
     "execution_count": 4,
     "metadata": {},
     "output_type": "execute_result"
    }
   ],
   "source": [
    "import pandas as pd\n",
    "df=pd.read_csv(\"D:/tablue/10_Property_stolen_and_recovered.csv\")\n",
    "df"
   ]
  },
  {
   "cell_type": "code",
   "execution_count": 3,
   "id": "4a44c8b9",
   "metadata": {},
   "outputs": [
    {
     "data": {
      "text/plain": [
       "pandas.core.frame.DataFrame"
      ]
     },
     "execution_count": 3,
     "metadata": {},
     "output_type": "execute_result"
    }
   ],
   "source": [
    "type(df)"
   ]
  },
  {
   "cell_type": "code",
   "execution_count": 4,
   "id": "01e95e8a",
   "metadata": {},
   "outputs": [
    {
     "data": {
      "text/html": [
       "<div>\n",
       "<style scoped>\n",
       "    .dataframe tbody tr th:only-of-type {\n",
       "        vertical-align: middle;\n",
       "    }\n",
       "\n",
       "    .dataframe tbody tr th {\n",
       "        vertical-align: top;\n",
       "    }\n",
       "\n",
       "    .dataframe thead th {\n",
       "        text-align: right;\n",
       "    }\n",
       "</style>\n",
       "<table border=\"1\" class=\"dataframe\">\n",
       "  <thead>\n",
       "    <tr style=\"text-align: right;\">\n",
       "      <th></th>\n",
       "      <th>Area_Name</th>\n",
       "      <th>Year</th>\n",
       "      <th>Group_Name</th>\n",
       "      <th>Sub_Group_Name</th>\n",
       "      <th>Cases_Property_Recovered</th>\n",
       "      <th>Cases_Property_Stolen</th>\n",
       "      <th>Value_of_Property_Recovered</th>\n",
       "      <th>Value_of_Property_Stolen</th>\n",
       "    </tr>\n",
       "  </thead>\n",
       "  <tbody>\n",
       "    <tr>\n",
       "      <th>0</th>\n",
       "      <td>Andaman &amp; Nicobar Islands</td>\n",
       "      <td>2001</td>\n",
       "      <td>Burglary - Property</td>\n",
       "      <td>3. Burglary</td>\n",
       "      <td>27</td>\n",
       "      <td>64</td>\n",
       "      <td>755858</td>\n",
       "      <td>1321961</td>\n",
       "    </tr>\n",
       "    <tr>\n",
       "      <th>1</th>\n",
       "      <td>Andhra Pradesh</td>\n",
       "      <td>2001</td>\n",
       "      <td>Burglary - Property</td>\n",
       "      <td>3. Burglary</td>\n",
       "      <td>3321</td>\n",
       "      <td>7134</td>\n",
       "      <td>51483437</td>\n",
       "      <td>147019348</td>\n",
       "    </tr>\n",
       "    <tr>\n",
       "      <th>2</th>\n",
       "      <td>Arunachal Pradesh</td>\n",
       "      <td>2001</td>\n",
       "      <td>Burglary - Property</td>\n",
       "      <td>3. Burglary</td>\n",
       "      <td>66</td>\n",
       "      <td>248</td>\n",
       "      <td>825115</td>\n",
       "      <td>4931904</td>\n",
       "    </tr>\n",
       "    <tr>\n",
       "      <th>3</th>\n",
       "      <td>Assam</td>\n",
       "      <td>2001</td>\n",
       "      <td>Burglary - Property</td>\n",
       "      <td>3. Burglary</td>\n",
       "      <td>539</td>\n",
       "      <td>2423</td>\n",
       "      <td>3722850</td>\n",
       "      <td>21466955</td>\n",
       "    </tr>\n",
       "    <tr>\n",
       "      <th>4</th>\n",
       "      <td>Bihar</td>\n",
       "      <td>2001</td>\n",
       "      <td>Burglary - Property</td>\n",
       "      <td>3. Burglary</td>\n",
       "      <td>367</td>\n",
       "      <td>3231</td>\n",
       "      <td>2327135</td>\n",
       "      <td>17023937</td>\n",
       "    </tr>\n",
       "  </tbody>\n",
       "</table>\n",
       "</div>"
      ],
      "text/plain": [
       "                   Area_Name  Year           Group_Name Sub_Group_Name  \\\n",
       "0  Andaman & Nicobar Islands  2001  Burglary - Property    3. Burglary   \n",
       "1             Andhra Pradesh  2001  Burglary - Property    3. Burglary   \n",
       "2          Arunachal Pradesh  2001  Burglary - Property    3. Burglary   \n",
       "3                      Assam  2001  Burglary - Property    3. Burglary   \n",
       "4                      Bihar  2001  Burglary - Property    3. Burglary   \n",
       "\n",
       "   Cases_Property_Recovered  Cases_Property_Stolen  \\\n",
       "0                        27                     64   \n",
       "1                      3321                   7134   \n",
       "2                        66                    248   \n",
       "3                       539                   2423   \n",
       "4                       367                   3231   \n",
       "\n",
       "   Value_of_Property_Recovered  Value_of_Property_Stolen  \n",
       "0                       755858                   1321961  \n",
       "1                     51483437                 147019348  \n",
       "2                       825115                   4931904  \n",
       "3                      3722850                  21466955  \n",
       "4                      2327135                  17023937  "
      ]
     },
     "execution_count": 4,
     "metadata": {},
     "output_type": "execute_result"
    }
   ],
   "source": [
    "df.head()"
   ]
  },
  {
   "cell_type": "code",
   "execution_count": 5,
   "id": "82c6d60c",
   "metadata": {},
   "outputs": [
    {
     "name": "stdout",
     "output_type": "stream",
     "text": [
      "<class 'pandas.core.frame.DataFrame'>\n",
      "RangeIndex: 2449 entries, 0 to 2448\n",
      "Data columns (total 8 columns):\n",
      " #   Column                       Non-Null Count  Dtype \n",
      "---  ------                       --------------  ----- \n",
      " 0   Area_Name                    2449 non-null   object\n",
      " 1   Year                         2449 non-null   int64 \n",
      " 2   Group_Name                   2449 non-null   object\n",
      " 3   Sub_Group_Name               2449 non-null   object\n",
      " 4   Cases_Property_Recovered     2449 non-null   int64 \n",
      " 5   Cases_Property_Stolen        2449 non-null   int64 \n",
      " 6   Value_of_Property_Recovered  2449 non-null   int64 \n",
      " 7   Value_of_Property_Stolen     2449 non-null   int64 \n",
      "dtypes: int64(5), object(3)\n",
      "memory usage: 153.2+ KB\n"
     ]
    }
   ],
   "source": [
    "df.info()"
   ]
  },
  {
   "cell_type": "code",
   "execution_count": 6,
   "id": "329dcd7f",
   "metadata": {},
   "outputs": [
    {
     "data": {
      "text/html": [
       "<div>\n",
       "<style scoped>\n",
       "    .dataframe tbody tr th:only-of-type {\n",
       "        vertical-align: middle;\n",
       "    }\n",
       "\n",
       "    .dataframe tbody tr th {\n",
       "        vertical-align: top;\n",
       "    }\n",
       "\n",
       "    .dataframe thead th {\n",
       "        text-align: right;\n",
       "    }\n",
       "</style>\n",
       "<table border=\"1\" class=\"dataframe\">\n",
       "  <thead>\n",
       "    <tr style=\"text-align: right;\">\n",
       "      <th></th>\n",
       "      <th>Year</th>\n",
       "      <th>Cases_Property_Recovered</th>\n",
       "      <th>Cases_Property_Stolen</th>\n",
       "      <th>Value_of_Property_Recovered</th>\n",
       "      <th>Value_of_Property_Stolen</th>\n",
       "    </tr>\n",
       "  </thead>\n",
       "  <tbody>\n",
       "    <tr>\n",
       "      <th>count</th>\n",
       "      <td>2449.000000</td>\n",
       "      <td>2449.000000</td>\n",
       "      <td>2449.000000</td>\n",
       "      <td>2.449000e+03</td>\n",
       "      <td>2.449000e+03</td>\n",
       "    </tr>\n",
       "    <tr>\n",
       "      <th>mean</th>\n",
       "      <td>2005.499388</td>\n",
       "      <td>1232.892201</td>\n",
       "      <td>3419.420988</td>\n",
       "      <td>5.859924e+07</td>\n",
       "      <td>2.465431e+08</td>\n",
       "    </tr>\n",
       "    <tr>\n",
       "      <th>std</th>\n",
       "      <td>2.873294</td>\n",
       "      <td>3079.573907</td>\n",
       "      <td>8136.256820</td>\n",
       "      <td>2.494403e+08</td>\n",
       "      <td>9.670035e+08</td>\n",
       "    </tr>\n",
       "    <tr>\n",
       "      <th>min</th>\n",
       "      <td>2001.000000</td>\n",
       "      <td>0.000000</td>\n",
       "      <td>0.000000</td>\n",
       "      <td>0.000000e+00</td>\n",
       "      <td>0.000000e+00</td>\n",
       "    </tr>\n",
       "    <tr>\n",
       "      <th>25%</th>\n",
       "      <td>2003.000000</td>\n",
       "      <td>13.000000</td>\n",
       "      <td>45.000000</td>\n",
       "      <td>6.845700e+05</td>\n",
       "      <td>3.649018e+06</td>\n",
       "    </tr>\n",
       "    <tr>\n",
       "      <th>50%</th>\n",
       "      <td>2005.000000</td>\n",
       "      <td>113.000000</td>\n",
       "      <td>358.000000</td>\n",
       "      <td>5.851830e+06</td>\n",
       "      <td>2.701800e+07</td>\n",
       "    </tr>\n",
       "    <tr>\n",
       "      <th>75%</th>\n",
       "      <td>2008.000000</td>\n",
       "      <td>722.000000</td>\n",
       "      <td>1875.000000</td>\n",
       "      <td>3.406395e+07</td>\n",
       "      <td>1.214580e+08</td>\n",
       "    </tr>\n",
       "    <tr>\n",
       "      <th>max</th>\n",
       "      <td>2010.000000</td>\n",
       "      <td>27960.000000</td>\n",
       "      <td>80663.000000</td>\n",
       "      <td>7.470011e+09</td>\n",
       "      <td>2.377625e+10</td>\n",
       "    </tr>\n",
       "  </tbody>\n",
       "</table>\n",
       "</div>"
      ],
      "text/plain": [
       "              Year  Cases_Property_Recovered  Cases_Property_Stolen  \\\n",
       "count  2449.000000               2449.000000            2449.000000   \n",
       "mean   2005.499388               1232.892201            3419.420988   \n",
       "std       2.873294               3079.573907            8136.256820   \n",
       "min    2001.000000                  0.000000               0.000000   \n",
       "25%    2003.000000                 13.000000              45.000000   \n",
       "50%    2005.000000                113.000000             358.000000   \n",
       "75%    2008.000000                722.000000            1875.000000   \n",
       "max    2010.000000              27960.000000           80663.000000   \n",
       "\n",
       "       Value_of_Property_Recovered  Value_of_Property_Stolen  \n",
       "count                 2.449000e+03              2.449000e+03  \n",
       "mean                  5.859924e+07              2.465431e+08  \n",
       "std                   2.494403e+08              9.670035e+08  \n",
       "min                   0.000000e+00              0.000000e+00  \n",
       "25%                   6.845700e+05              3.649018e+06  \n",
       "50%                   5.851830e+06              2.701800e+07  \n",
       "75%                   3.406395e+07              1.214580e+08  \n",
       "max                   7.470011e+09              2.377625e+10  "
      ]
     },
     "execution_count": 6,
     "metadata": {},
     "output_type": "execute_result"
    }
   ],
   "source": [
    "df.describe()"
   ]
  },
  {
   "cell_type": "code",
   "execution_count": 7,
   "id": "2fd4c7ba",
   "metadata": {},
   "outputs": [
    {
     "data": {
      "text/plain": [
       "Area_Name                      0\n",
       "Year                           0\n",
       "Group_Name                     0\n",
       "Sub_Group_Name                 0\n",
       "Cases_Property_Recovered       0\n",
       "Cases_Property_Stolen          0\n",
       "Value_of_Property_Recovered    0\n",
       "Value_of_Property_Stolen       0\n",
       "dtype: int64"
      ]
     },
     "execution_count": 7,
     "metadata": {},
     "output_type": "execute_result"
    }
   ],
   "source": [
    "df.isnull().sum()"
   ]
  },
  {
   "cell_type": "code",
   "execution_count": 8,
   "id": "ecfb4a63",
   "metadata": {},
   "outputs": [
    {
     "data": {
      "text/plain": [
       "array(['Burglary - Property', 'Criminal Breach of Trust - Property',\n",
       "       'Dacoity -Property', 'Other heads of Property',\n",
       "       'Robbery - Property', 'Theft - Property', 'Total Property'],\n",
       "      dtype=object)"
      ]
     },
     "execution_count": 8,
     "metadata": {},
     "output_type": "execute_result"
    }
   ],
   "source": [
    "df['Group_Name'].unique()"
   ]
  },
  {
   "cell_type": "code",
   "execution_count": 9,
   "id": "cd49bd09",
   "metadata": {},
   "outputs": [
    {
     "data": {
      "text/plain": [
       "<pandas.core.groupby.generic.DataFrameGroupBy object at 0x000001D20D9B9110>"
      ]
     },
     "execution_count": 9,
     "metadata": {},
     "output_type": "execute_result"
    }
   ],
   "source": [
    "r=df.groupby(['Year'])\n",
    "r"
   ]
  },
  {
   "cell_type": "code",
   "execution_count": 10,
   "id": "6ca0d95c",
   "metadata": {},
   "outputs": [
    {
     "data": {
      "text/plain": [
       "Year\n",
       "2010    946256\n",
       "2008    912990\n",
       "2009    911884\n",
       "2007    857074\n",
       "2006    813294\n",
       "2004    812392\n",
       "2005    799578\n",
       "2001    790836\n",
       "2002    774302\n",
       "2003    755556\n",
       "Name: Cases_Property_Stolen, dtype: int64"
      ]
     },
     "execution_count": 10,
     "metadata": {},
     "output_type": "execute_result"
    }
   ],
   "source": [
    "t=r['Cases_Property_Stolen'].sum().sort_values(ascending=False).head(10)\n",
    "t"
   ]
  },
  {
   "cell_type": "code",
   "execution_count": 11,
   "id": "8ce273dc",
   "metadata": {},
   "outputs": [
    {
     "data": {
      "text/html": [
       "<div>\n",
       "<style scoped>\n",
       "    .dataframe tbody tr th:only-of-type {\n",
       "        vertical-align: middle;\n",
       "    }\n",
       "\n",
       "    .dataframe tbody tr th {\n",
       "        vertical-align: top;\n",
       "    }\n",
       "\n",
       "    .dataframe thead th {\n",
       "        text-align: right;\n",
       "    }\n",
       "</style>\n",
       "<table border=\"1\" class=\"dataframe\">\n",
       "  <thead>\n",
       "    <tr style=\"text-align: right;\">\n",
       "      <th></th>\n",
       "      <th>Cases_Property_Stolen</th>\n",
       "    </tr>\n",
       "    <tr>\n",
       "      <th>Year</th>\n",
       "      <th></th>\n",
       "    </tr>\n",
       "  </thead>\n",
       "  <tbody>\n",
       "    <tr>\n",
       "      <th>2010</th>\n",
       "      <td>946256</td>\n",
       "    </tr>\n",
       "    <tr>\n",
       "      <th>2008</th>\n",
       "      <td>912990</td>\n",
       "    </tr>\n",
       "    <tr>\n",
       "      <th>2009</th>\n",
       "      <td>911884</td>\n",
       "    </tr>\n",
       "    <tr>\n",
       "      <th>2007</th>\n",
       "      <td>857074</td>\n",
       "    </tr>\n",
       "    <tr>\n",
       "      <th>2006</th>\n",
       "      <td>813294</td>\n",
       "    </tr>\n",
       "    <tr>\n",
       "      <th>2004</th>\n",
       "      <td>812392</td>\n",
       "    </tr>\n",
       "    <tr>\n",
       "      <th>2005</th>\n",
       "      <td>799578</td>\n",
       "    </tr>\n",
       "    <tr>\n",
       "      <th>2001</th>\n",
       "      <td>790836</td>\n",
       "    </tr>\n",
       "    <tr>\n",
       "      <th>2002</th>\n",
       "      <td>774302</td>\n",
       "    </tr>\n",
       "    <tr>\n",
       "      <th>2003</th>\n",
       "      <td>755556</td>\n",
       "    </tr>\n",
       "  </tbody>\n",
       "</table>\n",
       "</div>"
      ],
      "text/plain": [
       "      Cases_Property_Stolen\n",
       "Year                       \n",
       "2010                 946256\n",
       "2008                 912990\n",
       "2009                 911884\n",
       "2007                 857074\n",
       "2006                 813294\n",
       "2004                 812392\n",
       "2005                 799578\n",
       "2001                 790836\n",
       "2002                 774302\n",
       "2003                 755556"
      ]
     },
     "execution_count": 11,
     "metadata": {},
     "output_type": "execute_result"
    }
   ],
   "source": [
    "s=pd.DataFrame(t)\n",
    "s"
   ]
  },
  {
   "cell_type": "code",
   "execution_count": 12,
   "id": "357d3d2f",
   "metadata": {},
   "outputs": [
    {
     "data": {
      "text/html": [
       "<div>\n",
       "<style scoped>\n",
       "    .dataframe tbody tr th:only-of-type {\n",
       "        vertical-align: middle;\n",
       "    }\n",
       "\n",
       "    .dataframe tbody tr th {\n",
       "        vertical-align: top;\n",
       "    }\n",
       "\n",
       "    .dataframe thead th {\n",
       "        text-align: right;\n",
       "    }\n",
       "</style>\n",
       "<table border=\"1\" class=\"dataframe\">\n",
       "  <thead>\n",
       "    <tr style=\"text-align: right;\">\n",
       "      <th></th>\n",
       "      <th>Year</th>\n",
       "      <th>Cases_Property_Stolen</th>\n",
       "    </tr>\n",
       "  </thead>\n",
       "  <tbody>\n",
       "    <tr>\n",
       "      <th>0</th>\n",
       "      <td>2010</td>\n",
       "      <td>946256</td>\n",
       "    </tr>\n",
       "    <tr>\n",
       "      <th>1</th>\n",
       "      <td>2008</td>\n",
       "      <td>912990</td>\n",
       "    </tr>\n",
       "    <tr>\n",
       "      <th>2</th>\n",
       "      <td>2009</td>\n",
       "      <td>911884</td>\n",
       "    </tr>\n",
       "    <tr>\n",
       "      <th>3</th>\n",
       "      <td>2007</td>\n",
       "      <td>857074</td>\n",
       "    </tr>\n",
       "    <tr>\n",
       "      <th>4</th>\n",
       "      <td>2006</td>\n",
       "      <td>813294</td>\n",
       "    </tr>\n",
       "    <tr>\n",
       "      <th>5</th>\n",
       "      <td>2004</td>\n",
       "      <td>812392</td>\n",
       "    </tr>\n",
       "    <tr>\n",
       "      <th>6</th>\n",
       "      <td>2005</td>\n",
       "      <td>799578</td>\n",
       "    </tr>\n",
       "    <tr>\n",
       "      <th>7</th>\n",
       "      <td>2001</td>\n",
       "      <td>790836</td>\n",
       "    </tr>\n",
       "    <tr>\n",
       "      <th>8</th>\n",
       "      <td>2002</td>\n",
       "      <td>774302</td>\n",
       "    </tr>\n",
       "    <tr>\n",
       "      <th>9</th>\n",
       "      <td>2003</td>\n",
       "      <td>755556</td>\n",
       "    </tr>\n",
       "  </tbody>\n",
       "</table>\n",
       "</div>"
      ],
      "text/plain": [
       "   Year  Cases_Property_Stolen\n",
       "0  2010                 946256\n",
       "1  2008                 912990\n",
       "2  2009                 911884\n",
       "3  2007                 857074\n",
       "4  2006                 813294\n",
       "5  2004                 812392\n",
       "6  2005                 799578\n",
       "7  2001                 790836\n",
       "8  2002                 774302\n",
       "9  2003                 755556"
      ]
     },
     "execution_count": 12,
     "metadata": {},
     "output_type": "execute_result"
    }
   ],
   "source": [
    "k=s.reset_index()\n",
    "k"
   ]
  },
  {
   "cell_type": "code",
   "execution_count": 33,
   "id": "3b58ac41",
   "metadata": {},
   "outputs": [
    {
     "data": {
      "image/png": "[encoded data removed]",
      "text/plain": [
       "<Figure size 1800x500 with 1 Axes>"
      ]
     },
     "metadata": {},
     "output_type": "display_data"
    }
   ],
   "source": [
    "plt.figure(figsize=(18,5))\n",
    "plt.title('Cases Property Stolen',size=25,color='green')\n",
    "sns.barplot(x='Year',y='Cases_Property_Stolen',data=k)\n",
    "addgraph(k['Year'],k['Cases_Property_Stolen'])\n",
    "plt.show()\n"
   ]
  },
  {
   "cell_type": "code",
   "execution_count": 15,
   "id": "675d1b2e",
   "metadata": {},
   "outputs": [],
   "source": [
    "def addgraph(x,y):\n",
    "    for i in range(len(x)):\n",
    "        plt.text(i,y[i],y[i],ha='center',va='bottom')"
   ]
  },
  {
   "cell_type": "code",
   "execution_count": 16,
   "id": "777a893d",
   "metadata": {},
   "outputs": [
    {
     "data": {
      "text/plain": [
       "<pandas.core.groupby.generic.DataFrameGroupBy object at 0x000001D20E8311D0>"
      ]
     },
     "execution_count": 16,
     "metadata": {},
     "output_type": "execute_result"
    }
   ],
   "source": [
    "u=df.groupby(['Sub_Group_Name'])\n",
    "u"
   ]
  },
  {
   "cell_type": "code",
   "execution_count": 18,
   "id": "0f925551",
   "metadata": {},
   "outputs": [
    {
     "data": {
      "text/plain": [
       "Sub_Group_Name\n",
       "7. Total Property Stolen & Recovered    4187068\n",
       "4. Theft                                2742941\n",
       "3. Burglary                              900772\n",
       "6. Other Property                        204914\n",
       "2. Robbery                               187125\n",
       "5. Criminal Breach of Trust              103164\n",
       "1. Dacoity                                48178\n",
       "Name: Cases_Property_Stolen, dtype: int64"
      ]
     },
     "execution_count": 18,
     "metadata": {},
     "output_type": "execute_result"
    }
   ],
   "source": [
    "t1=u['Cases_Property_Stolen'].sum().sort_values(ascending=False).head(20)\n",
    "t1"
   ]
  },
  {
   "cell_type": "code",
   "execution_count": 34,
   "id": "6e024a1a",
   "metadata": {},
   "outputs": [
    {
     "data": {
      "text/html": [
       "<div>\n",
       "<style scoped>\n",
       "    .dataframe tbody tr th:only-of-type {\n",
       "        vertical-align: middle;\n",
       "    }\n",
       "\n",
       "    .dataframe tbody tr th {\n",
       "        vertical-align: top;\n",
       "    }\n",
       "\n",
       "    .dataframe thead th {\n",
       "        text-align: right;\n",
       "    }\n",
       "</style>\n",
       "<table border=\"1\" class=\"dataframe\">\n",
       "  <thead>\n",
       "    <tr style=\"text-align: right;\">\n",
       "      <th></th>\n",
       "      <th>Cases_Property_Stolen</th>\n",
       "    </tr>\n",
       "    <tr>\n",
       "      <th>Sub_Group_Name</th>\n",
       "      <th></th>\n",
       "    </tr>\n",
       "  </thead>\n",
       "  <tbody>\n",
       "    <tr>\n",
       "      <th>7. Total Property Stolen &amp; Recovered</th>\n",
       "      <td>4187068</td>\n",
       "    </tr>\n",
       "    <tr>\n",
       "      <th>4. Theft</th>\n",
       "      <td>2742941</td>\n",
       "    </tr>\n",
       "    <tr>\n",
       "      <th>3. Burglary</th>\n",
       "      <td>900772</td>\n",
       "    </tr>\n",
       "    <tr>\n",
       "      <th>6. Other Property</th>\n",
       "      <td>204914</td>\n",
       "    </tr>\n",
       "    <tr>\n",
       "      <th>2. Robbery</th>\n",
       "      <td>187125</td>\n",
       "    </tr>\n",
       "    <tr>\n",
       "      <th>5. Criminal Breach of Trust</th>\n",
       "      <td>103164</td>\n",
       "    </tr>\n",
       "    <tr>\n",
       "      <th>1. Dacoity</th>\n",
       "      <td>48178</td>\n",
       "    </tr>\n",
       "  </tbody>\n",
       "</table>\n",
       "</div>"
      ],
      "text/plain": [
       "                                      Cases_Property_Stolen\n",
       "Sub_Group_Name                                             \n",
       "7. Total Property Stolen & Recovered                4187068\n",
       "4. Theft                                            2742941\n",
       "3. Burglary                                          900772\n",
       "6. Other Property                                    204914\n",
       "2. Robbery                                           187125\n",
       "5. Criminal Breach of Trust                          103164\n",
       "1. Dacoity                                            48178"
      ]
     },
     "execution_count": 34,
     "metadata": {},
     "output_type": "execute_result"
    }
   ],
   "source": [
    "s1=pd.DataFrame(t1)\n",
    "s1"
   ]
  },
  {
   "cell_type": "code",
   "execution_count": 27,
   "id": "e735ea9a",
   "metadata": {},
   "outputs": [
    {
     "data": {
      "text/html": [
       "<div>\n",
       "<style scoped>\n",
       "    .dataframe tbody tr th:only-of-type {\n",
       "        vertical-align: middle;\n",
       "    }\n",
       "\n",
       "    .dataframe tbody tr th {\n",
       "        vertical-align: top;\n",
       "    }\n",
       "\n",
       "    .dataframe thead th {\n",
       "        text-align: right;\n",
       "    }\n",
       "</style>\n",
       "<table border=\"1\" class=\"dataframe\">\n",
       "  <thead>\n",
       "    <tr style=\"text-align: right;\">\n",
       "      <th></th>\n",
       "      <th>Sub_Group_Name</th>\n",
       "      <th>Cases_Property_Stolen</th>\n",
       "    </tr>\n",
       "  </thead>\n",
       "  <tbody>\n",
       "    <tr>\n",
       "      <th>0</th>\n",
       "      <td>4. Theft</td>\n",
       "      <td>2742941</td>\n",
       "    </tr>\n",
       "    <tr>\n",
       "      <th>1</th>\n",
       "      <td>3. Burglary</td>\n",
       "      <td>900772</td>\n",
       "    </tr>\n",
       "    <tr>\n",
       "      <th>2</th>\n",
       "      <td>6. Other Property</td>\n",
       "      <td>204914</td>\n",
       "    </tr>\n",
       "    <tr>\n",
       "      <th>3</th>\n",
       "      <td>2. Robbery</td>\n",
       "      <td>187125</td>\n",
       "    </tr>\n",
       "    <tr>\n",
       "      <th>4</th>\n",
       "      <td>5. Criminal Breach of Trust</td>\n",
       "      <td>103164</td>\n",
       "    </tr>\n",
       "    <tr>\n",
       "      <th>5</th>\n",
       "      <td>1. Dacoity</td>\n",
       "      <td>48178</td>\n",
       "    </tr>\n",
       "  </tbody>\n",
       "</table>\n",
       "</div>"
      ],
      "text/plain": [
       "                Sub_Group_Name  Cases_Property_Stolen\n",
       "0                     4. Theft                2742941\n",
       "1                  3. Burglary                 900772\n",
       "2            6. Other Property                 204914\n",
       "3                   2. Robbery                 187125\n",
       "4  5. Criminal Breach of Trust                 103164\n",
       "5                   1. Dacoity                  48178"
      ]
     },
     "execution_count": 27,
     "metadata": {},
     "output_type": "execute_result"
    }
   ],
   "source": [
    "s1.drop(['7. Total Property Stolen & Recovered'],axis=0,inplace=True)\n",
    "k1=s1.reset_index()\n",
    "k1"
   ]
  },
  {
   "cell_type": "code",
   "execution_count": null,
   "id": "227df4b3",
   "metadata": {},
   "outputs": [],
   "source": []
  },
  {
   "cell_type": "code",
   "execution_count": 35,
   "id": "2284db62",
   "metadata": {},
   "outputs": [
    {
     "data": {
      "image/png": "[encoded data removed]",
      "text/plain": [
       "<Figure size 1800x500 with 1 Axes>"
      ]
     },
     "metadata": {},
     "output_type": "display_data"
    }
   ],
   "source": [
    "plt.figure(figsize=(18,5))\n",
    "plt.title('Group Wise Cases Property Stolen',size=25,color='green')\n",
    "sns.barplot(x='Sub_Group_Name',y='Cases_Property_Stolen',data=k1)\n",
    "plt.xlabel('Sub_Group_Name',fontsize=18,color='red')\n",
    "plt.ylabel('Cases_Property_Stolen',fontsize=18,color='purple')\n",
    "addgraph(k1['Sub_Group_Name'],k1['Cases_Property_Stolen'])\n",
    "plt.show()"
   ]
  },
  {
   "cell_type": "code",
   "execution_count": 30,
   "id": "e6391c08",
   "metadata": {},
   "outputs": [],
   "source": [
    " def addgraph(x1,y1):\n",
    "    for i in range(len(x1)):\n",
    "        plt.text(i,y1[i],y1[i],ha='center',va='bottom')"
   ]
  },
  {
   "cell_type": "code",
   "execution_count": 22,
   "id": "6481fb07",
   "metadata": {},
   "outputs": [
    {
     "data": {
      "text/plain": [
       "<pandas.core.groupby.generic.DataFrameGroupBy object at 0x000001D20E92E590>"
      ]
     },
     "execution_count": 22,
     "metadata": {},
     "output_type": "execute_result"
    }
   ],
   "source": [
    "r3=df.groupby(['Year'])\n",
    "r3"
   ]
  },
  {
   "cell_type": "code",
   "execution_count": 23,
   "id": "ed867333",
   "metadata": {},
   "outputs": [
    {
     "data": {
      "text/plain": [
       "Year\n",
       "2010    36192599934\n",
       "2009    17522282464\n",
       "2008    15362975370\n",
       "2007    13930899181\n",
       "2006    12144608296\n",
       "2005    11519962792\n",
       "2002     9548408672\n",
       "2004     9389393600\n",
       "2003     8951886540\n",
       "2001     8946523770\n",
       "Name: Value_of_Property_Recovered, dtype: int64"
      ]
     },
     "execution_count": 23,
     "metadata": {},
     "output_type": "execute_result"
    }
   ],
   "source": [
    "t3=r3['Value_of_Property_Recovered'].sum().sort_values(ascending=False).head(10)\n",
    "t3"
   ]
  },
  {
   "cell_type": "code",
   "execution_count": 24,
   "id": "6b1dee4b",
   "metadata": {},
   "outputs": [
    {
     "data": {
      "text/html": [
       "<div>\n",
       "<style scoped>\n",
       "    .dataframe tbody tr th:only-of-type {\n",
       "        vertical-align: middle;\n",
       "    }\n",
       "\n",
       "    .dataframe tbody tr th {\n",
       "        vertical-align: top;\n",
       "    }\n",
       "\n",
       "    .dataframe thead th {\n",
       "        text-align: right;\n",
       "    }\n",
       "</style>\n",
       "<table border=\"1\" class=\"dataframe\">\n",
       "  <thead>\n",
       "    <tr style=\"text-align: right;\">\n",
       "      <th></th>\n",
       "      <th>Value_of_Property_Recovered</th>\n",
       "    </tr>\n",
       "    <tr>\n",
       "      <th>Year</th>\n",
       "      <th></th>\n",
       "    </tr>\n",
       "  </thead>\n",
       "  <tbody>\n",
       "    <tr>\n",
       "      <th>2010</th>\n",
       "      <td>36192599934</td>\n",
       "    </tr>\n",
       "    <tr>\n",
       "      <th>2009</th>\n",
       "      <td>17522282464</td>\n",
       "    </tr>\n",
       "    <tr>\n",
       "      <th>2008</th>\n",
       "      <td>15362975370</td>\n",
       "    </tr>\n",
       "    <tr>\n",
       "      <th>2007</th>\n",
       "      <td>13930899181</td>\n",
       "    </tr>\n",
       "    <tr>\n",
       "      <th>2006</th>\n",
       "      <td>12144608296</td>\n",
       "    </tr>\n",
       "    <tr>\n",
       "      <th>2005</th>\n",
       "      <td>11519962792</td>\n",
       "    </tr>\n",
       "    <tr>\n",
       "      <th>2002</th>\n",
       "      <td>9548408672</td>\n",
       "    </tr>\n",
       "    <tr>\n",
       "      <th>2004</th>\n",
       "      <td>9389393600</td>\n",
       "    </tr>\n",
       "    <tr>\n",
       "      <th>2003</th>\n",
       "      <td>8951886540</td>\n",
       "    </tr>\n",
       "    <tr>\n",
       "      <th>2001</th>\n",
       "      <td>8946523770</td>\n",
       "    </tr>\n",
       "  </tbody>\n",
       "</table>\n",
       "</div>"
      ],
      "text/plain": [
       "      Value_of_Property_Recovered\n",
       "Year                             \n",
       "2010                  36192599934\n",
       "2009                  17522282464\n",
       "2008                  15362975370\n",
       "2007                  13930899181\n",
       "2006                  12144608296\n",
       "2005                  11519962792\n",
       "2002                   9548408672\n",
       "2004                   9389393600\n",
       "2003                   8951886540\n",
       "2001                   8946523770"
      ]
     },
     "execution_count": 24,
     "metadata": {},
     "output_type": "execute_result"
    }
   ],
   "source": [
    "s4=pd.DataFrame(t3)\n",
    "s4"
   ]
  },
  {
   "cell_type": "code",
   "execution_count": 25,
   "id": "abfdbf7d",
   "metadata": {},
   "outputs": [
    {
     "data": {
      "text/html": [
       "<div>\n",
       "<style scoped>\n",
       "    .dataframe tbody tr th:only-of-type {\n",
       "        vertical-align: middle;\n",
       "    }\n",
       "\n",
       "    .dataframe tbody tr th {\n",
       "        vertical-align: top;\n",
       "    }\n",
       "\n",
       "    .dataframe thead th {\n",
       "        text-align: right;\n",
       "    }\n",
       "</style>\n",
       "<table border=\"1\" class=\"dataframe\">\n",
       "  <thead>\n",
       "    <tr style=\"text-align: right;\">\n",
       "      <th></th>\n",
       "      <th>Year</th>\n",
       "      <th>Value_of_Property_Recovered</th>\n",
       "    </tr>\n",
       "  </thead>\n",
       "  <tbody>\n",
       "    <tr>\n",
       "      <th>0</th>\n",
       "      <td>2010</td>\n",
       "      <td>36192599934</td>\n",
       "    </tr>\n",
       "    <tr>\n",
       "      <th>1</th>\n",
       "      <td>2009</td>\n",
       "      <td>17522282464</td>\n",
       "    </tr>\n",
       "    <tr>\n",
       "      <th>2</th>\n",
       "      <td>2008</td>\n",
       "      <td>15362975370</td>\n",
       "    </tr>\n",
       "    <tr>\n",
       "      <th>3</th>\n",
       "      <td>2007</td>\n",
       "      <td>13930899181</td>\n",
       "    </tr>\n",
       "    <tr>\n",
       "      <th>4</th>\n",
       "      <td>2006</td>\n",
       "      <td>12144608296</td>\n",
       "    </tr>\n",
       "    <tr>\n",
       "      <th>5</th>\n",
       "      <td>2005</td>\n",
       "      <td>11519962792</td>\n",
       "    </tr>\n",
       "    <tr>\n",
       "      <th>6</th>\n",
       "      <td>2002</td>\n",
       "      <td>9548408672</td>\n",
       "    </tr>\n",
       "    <tr>\n",
       "      <th>7</th>\n",
       "      <td>2004</td>\n",
       "      <td>9389393600</td>\n",
       "    </tr>\n",
       "    <tr>\n",
       "      <th>8</th>\n",
       "      <td>2003</td>\n",
       "      <td>8951886540</td>\n",
       "    </tr>\n",
       "    <tr>\n",
       "      <th>9</th>\n",
       "      <td>2001</td>\n",
       "      <td>8946523770</td>\n",
       "    </tr>\n",
       "  </tbody>\n",
       "</table>\n",
       "</div>"
      ],
      "text/plain": [
       "   Year  Value_of_Property_Recovered\n",
       "0  2010                  36192599934\n",
       "1  2009                  17522282464\n",
       "2  2008                  15362975370\n",
       "3  2007                  13930899181\n",
       "4  2006                  12144608296\n",
       "5  2005                  11519962792\n",
       "6  2002                   9548408672\n",
       "7  2004                   9389393600\n",
       "8  2003                   8951886540\n",
       "9  2001                   8946523770"
      ]
     },
     "execution_count": 25,
     "metadata": {},
     "output_type": "execute_result"
    }
   ],
   "source": [
    "k4=s4.reset_index()\n",
    "k4"
   ]
  },
  {
   "cell_type": "code",
   "execution_count": 36,
   "id": "c17c7166",
   "metadata": {},
   "outputs": [
    {
     "data": {
      "image/png": "[encoded data removed]",
      "text/plain": [
       "<Figure size 1800x500 with 1 Axes>"
      ]
     },
     "metadata": {},
     "output_type": "display_data"
    }
   ],
   "source": [
    "plt.figure(figsize=(18,5))\n",
    "plt.title(' Year Wise Value_of_Property_Recovered',size=25,color='green')\n",
    "sns.barplot(x='Year',y='Value_of_Property_Recovered',data=k4)\n",
    "plt.xlabel('Year',fontsize=18,color='red')\n",
    "plt.ylabel('Value_of_Property_Recovered',fontsize=18,color='purple')\n",
    "plt.show()"
   ]
  },
  {
   "cell_type": "code",
   "execution_count": 9,
   "id": "f1ba4695",
   "metadata": {},
   "outputs": [],
   "source": [
    "df2=df.groupby('Area_Name')"
   ]
  },
  {
   "cell_type": "code",
   "execution_count": 119,
   "id": "03a4df81",
   "metadata": {},
   "outputs": [],
   "source": [
    "k2=((df2['Cases_Property_Recovered'].sum())/(df2['Cases_Property_Stolen'].sum())*100)\n",
    "k2=k2.sort_values(ascending=False).head(10).round(2)\n"
   ]
  },
  {
   "cell_type": "code",
   "execution_count": 120,
   "id": "8bde8820",
   "metadata": {},
   "outputs": [
    {
     "data": {
      "text/html": [
       "<div>\n",
       "<style scoped>\n",
       "    .dataframe tbody tr th:only-of-type {\n",
       "        vertical-align: middle;\n",
       "    }\n",
       "\n",
       "    .dataframe tbody tr th {\n",
       "        vertical-align: top;\n",
       "    }\n",
       "\n",
       "    .dataframe thead th {\n",
       "        text-align: right;\n",
       "    }\n",
       "</style>\n",
       "<table border=\"1\" class=\"dataframe\">\n",
       "  <thead>\n",
       "    <tr style=\"text-align: right;\">\n",
       "      <th></th>\n",
       "      <th>0</th>\n",
       "    </tr>\n",
       "    <tr>\n",
       "      <th>Area_Name</th>\n",
       "      <th></th>\n",
       "    </tr>\n",
       "  </thead>\n",
       "  <tbody>\n",
       "    <tr>\n",
       "      <th>Tamil Nadu</th>\n",
       "      <td>79.23</td>\n",
       "    </tr>\n",
       "    <tr>\n",
       "      <th>Mizoram</th>\n",
       "      <td>70.27</td>\n",
       "    </tr>\n",
       "    <tr>\n",
       "      <th>Punjab</th>\n",
       "      <td>56.57</td>\n",
       "    </tr>\n",
       "    <tr>\n",
       "      <th>Andhra Pradesh</th>\n",
       "      <td>51.73</td>\n",
       "    </tr>\n",
       "    <tr>\n",
       "      <th>Puducherry</th>\n",
       "      <td>51.10</td>\n",
       "    </tr>\n",
       "    <tr>\n",
       "      <th>Odisha</th>\n",
       "      <td>46.40</td>\n",
       "    </tr>\n",
       "    <tr>\n",
       "      <th>Dadra &amp; Nagar Haveli</th>\n",
       "      <td>44.28</td>\n",
       "    </tr>\n",
       "    <tr>\n",
       "      <th>Haryana</th>\n",
       "      <td>43.95</td>\n",
       "    </tr>\n",
       "    <tr>\n",
       "      <th>Andaman &amp; Nicobar Islands</th>\n",
       "      <td>41.40</td>\n",
       "    </tr>\n",
       "    <tr>\n",
       "      <th>Chandigarh</th>\n",
       "      <td>38.24</td>\n",
       "    </tr>\n",
       "  </tbody>\n",
       "</table>\n",
       "</div>"
      ],
      "text/plain": [
       "                               0\n",
       "Area_Name                       \n",
       "Tamil Nadu                 79.23\n",
       "Mizoram                    70.27\n",
       "Punjab                     56.57\n",
       "Andhra Pradesh             51.73\n",
       "Puducherry                 51.10\n",
       "Odisha                     46.40\n",
       "Dadra & Nagar Haveli       44.28\n",
       "Haryana                    43.95\n",
       "Andaman & Nicobar Islands  41.40\n",
       "Chandigarh                 38.24"
      ]
     },
     "execution_count": 120,
     "metadata": {},
     "output_type": "execute_result"
    }
   ],
   "source": [
    "k3=pd.DataFrame(k2)\n",
    "k3"
   ]
  },
  {
   "cell_type": "code",
   "execution_count": 121,
   "id": "53f4536d",
   "metadata": {},
   "outputs": [
    {
     "name": "stdout",
     "output_type": "stream",
     "text": [
      "<class 'pandas.core.frame.DataFrame'>\n",
      "RangeIndex: 10 entries, 0 to 9\n",
      "Data columns (total 2 columns):\n",
      " #   Column      Non-Null Count  Dtype  \n",
      "---  ------      --------------  -----  \n",
      " 0   Area_Name   10 non-null     object \n",
      " 1   percentage  10 non-null     float64\n",
      "dtypes: float64(1), object(1)\n",
      "memory usage: 292.0+ bytes\n"
     ]
    }
   ],
   "source": [
    "k4=k3.reset_index()\n",
    "k5=k4.rename(columns={0: 'percentage'})\n",
    "k5.info()"
   ]
  },
  {
   "cell_type": "code",
   "execution_count": 122,
   "id": "f48b0890",
   "metadata": {},
   "outputs": [],
   "source": [
    "a=k5['Area_Name']\n",
    "a2=list(a)\n",
    "p=k5['percentage']\n",
    "p2=list(p)"
   ]
  },
  {
   "cell_type": "code",
   "execution_count": 123,
   "id": "5c9b6272",
   "metadata": {},
   "outputs": [
    {
     "data": {
      "image/png": "[encoded data removed]",
      "text/plain": [
       "<Figure size 1500x500 with 1 Axes>"
      ]
     },
     "metadata": {},
     "output_type": "display_data"
    }
   ],
   "source": [
    "plt.figure(figsize=(15,5))\n",
    "plt.pie(p2,labels=a2,autopct='%1.1f%%')\n",
    "# addgraph(a2,p2)\n",
    "plt.show()"
   ]
  },
  {
   "cell_type": "code",
   "execution_count": 127,
   "id": "361c49fe",
   "metadata": {},
   "outputs": [
    {
     "data": {
      "image/png": "[encoded data removed]",
      "text/plain": [
       "<Figure size 1800x500 with 1 Axes>"
      ]
     },
     "metadata": {},
     "output_type": "display_data"
    }
   ],
   "source": [
    "plt.figure(figsize=(18,5))\n",
    "plt.title(' Area-Wise Distribution of Left Cases (Percentage)',size=25,color='green')\n",
    "sns.barplot(x=k5['Area_Name'],y=k5['percentage'],data=k5)\n",
    "plt.xlabel('Area_Name',fontsize=18,color='red')\n",
    "plt.ylabel('Percentage',fontsize=18,color='purple')\n",
    "addgraph(k5['Area_Name'],k5['percentage'])\n",
    "plt.show()"
   ]
  },
  {
   "cell_type": "code",
   "execution_count": null,
   "id": "218eb934",
   "metadata": {},
   "outputs": [],
   "source": []
  }
 ],
 "metadata": {
  "kernelspec": {
   "display_name": "Python 3 (ipykernel)",
   "language": "python",
   "name": "python3"
  },
  "language_info": {
   "codemirror_mode": {
    "name": "ipython",
    "version": 3
   },
   "file_extension": ".py",
   "mimetype": "text/x-python",
   "name": "python",
   "nbconvert_exporter": "python",
   "pygments_lexer": "ipython3",
   "version": "3.11.5"
  }
 },
 "nbformat": 4,
 "nbformat_minor": 5
}
